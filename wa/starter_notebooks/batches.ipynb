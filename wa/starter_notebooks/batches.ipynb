{
 "cells": [
  {
   "cell_type": "markdown",
   "id": "inner-modeling",
   "metadata": {},
   "source": [
    "# batches.ipynb\n",
    "Author: UFO Software, LLC<br>\n",
    "Created: Wednesday, February 24, 2021 19:04<br>\n",
    "\n",
    "License GPLv3+: GNU GPL version 3 or later <https://gnu.org/licenses/gpl.html> <br>\n",
    "This is free software: you are free to change and redistribute it.<br>\n",
    "There is NO WARRANTY, to the extent permitted by law.<br>\n",
    "<br>\n",
    "Reads in the Batches_0.csv file from the [December 2020 WA State Traceability Data](https://lcb.app.box.com/s/fnku9nr22dhx04f6o646xv6ad6fswfy9?page=1) and drops the columns that have been depreciated.\n",
    "\n"
   ]
  },
  {
   "cell_type": "code",
   "execution_count": null,
   "id": "documented-purple",
   "metadata": {},
   "outputs": [],
   "source": [
    "import pandas as pd\n",
    "import numpy as np\n",
    "from pathlib import Path\n",
    "import os\n",
    "\n",
    "import seaborn as sns\n",
    "import matplotlib.pyplot as plt\n",
    "from pandas.plotting import scatter_matrix\n",
    "\n",
    "# replace with the path to your data\n",
    "file_path = Path('dec-2020')\n",
    "pd.set_option('display.max_columns', None)"
   ]
  },
  {
   "cell_type": "code",
   "execution_count": null,
   "id": "veterinary-movement",
   "metadata": {},
   "outputs": [],
   "source": [
    "#parse dates\n",
    "date_cols = ['created_at',\n",
    "             'updated_at',\n",
    "             'harvested_at',\n",
    "             'batch_created_at',\n",
    "             'packaged_completed_at',\n",
    "             'deleted_at',\n",
    "             'harvested_end_at']\n",
    "\n",
    "batches_df = pd.read_csv(file_path / 'Batches_0.csv', sep = '\\t', encoding = 'utf-16', parse_dates = date_cols)\n",
    "\n",
    "#drop depreciated columns\n",
    "depreciated_cols = ['planted_at',\n",
    "                    'qty_accumulated_waste',\n",
    "                    'qty_cure']\n",
    "batches_df.drop(labels = depreciated_cols, axis = 1, inplace = True)\n",
    "batches_df.head()"
   ]
  },
  {
   "cell_type": "code",
   "execution_count": null,
   "id": "aerial-nashville",
   "metadata": {},
   "outputs": [],
   "source": [
    "batches_df"
   ]
  },
  {
   "cell_type": "code",
   "execution_count": null,
   "id": "raising-status",
   "metadata": {},
   "outputs": [],
   "source": [
    "batches_df.tail()"
   ]
  },
  {
   "cell_type": "code",
   "execution_count": null,
   "id": "passing-stability",
   "metadata": {},
   "outputs": [],
   "source": []
  }
 ],
 "metadata": {
  "kernelspec": {
   "display_name": "Python 3",
   "language": "python",
   "name": "python3"
  },
  "language_info": {
   "codemirror_mode": {
    "name": "ipython",
    "version": 3
   },
   "file_extension": ".py",
   "mimetype": "text/x-python",
   "name": "python",
   "nbconvert_exporter": "python",
   "pygments_lexer": "ipython3",
   "version": "3.7.10"
  }
 },
 "nbformat": 4,
 "nbformat_minor": 5
}
