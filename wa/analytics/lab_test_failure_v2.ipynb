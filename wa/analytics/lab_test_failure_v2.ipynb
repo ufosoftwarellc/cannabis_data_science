{
 "cells": [
  {
   "cell_type": "markdown",
   "id": "3801ed44-500a-4b67-a3a9-7836c480ceeb",
   "metadata": {},
   "source": [
    "lab_test_failure_v2.ipynb\n",
    "\n",
    "Author: UFO Software, LLC\n",
    "Created: Wednesday, July 13, 2021 12:25\n",
    "\n",
    "License GPLv3+: GNU GPL version 3 or later https://gnu.org/licenses/gpl.html \n",
    "This is free software: you are free to change and redistribute it.\n",
    "There is NO WARRANTY, to the extent permitted by law.\n",
    "\n",
    "Reads in the LabResults_0.csv and Batches_0.csv files from the December 2020 WA State Traceability Data and predicts if a cannabis sample will pass or fail lab testing.<br/>\n",
    "This notebook is an update to the original lab_test_failure.ipynb notebook, it omits the exploratory work and has a defined goal of maximizing true possitives, minimizing false negatives and not optimizing false negatives."
   ]
  },
  {
   "cell_type": "code",
   "execution_count": 1,
   "id": "ca22b64f-bff3-49ad-a057-d088fa7d717d",
   "metadata": {},
   "outputs": [],
   "source": [
    "import pandas as pd\n",
    "import pandas_profiling as pp\n",
    "import numpy as np\n",
    "from pathlib import Path\n",
    "import os\n",
    "\n",
    "import seaborn as sns\n",
    "import matplotlib.pyplot as plt\n",
    "from pandas.plotting import scatter_matrix\n",
    "\n",
    "from sklearn.model_selection import cross_val_score\n",
    "from sklearn.model_selection import RepeatedStratifiedKFold\n",
    "from sklearn.model_selection import train_test_split\n",
    "from sklearn.linear_model import LogisticRegression\n",
    "from sklearn.metrics import plot_confusion_matrix\n",
    "from sklearn import preprocessing\n",
    "from sklearn.dummy import DummyClassifier\n",
    "from sklearn.utils import class_weight\n",
    "from sklearn.metrics import accuracy_score\n",
    "from sklearn.metrics import precision_score\n",
    "from sklearn.metrics import recall_score\n",
    "from sklearn.metrics import f1_score\n",
    "\n",
    "from catboost import CatBoostClassifier, Pool, cv\n",
    "from catboost.utils import get_gpu_device_count\n",
    "\n",
    "# change the file path to match where your data is stored\n",
    "file_path = Path('../dec-2020')\n",
    "pd.set_option('display.max_columns', None)"
   ]
  },
  {
   "cell_type": "code",
   "execution_count": 2,
   "id": "7f8bccd1-1872-4650-aa3f-f2a623c080ee",
   "metadata": {},
   "outputs": [],
   "source": [
    "# random state seed for repeatability\n",
    "seed = 42"
   ]
  },
  {
   "cell_type": "markdown",
   "id": "8bebed65-1c87-4fd1-b96f-fed07cf26372",
   "metadata": {},
   "source": [
    "# the goal of this notebook is predict if a sample will fail lab testing\n",
    "## to avoid data leakage load only the data that is known before testing is completed"
   ]
  },
  {
   "cell_type": "code",
   "execution_count": 3,
   "id": "4fc39cfe-2a69-4b21-bfdd-1dc875f296ab",
   "metadata": {},
   "outputs": [],
   "source": [
    "def get_lab_results_df():\n",
    "    # reduce the size of the dataframe's memory footprint by specifying data types\n",
    "    col_dtypes = {'global_id' : 'string',\n",
    "                 'mme_id' : 'category',\n",
    "                 'user_id' : 'string',\n",
    "                 'external_id' : 'string',\n",
    "                 'inventory_id' : 'string',\n",
    "                 'status' : 'category',\n",
    "                 'testing_status' : 'category',\n",
    "                 'batch_id' : 'string',\n",
    "                 'type' : 'category',\n",
    "                }\n",
    "\n",
    "    date_cols = ['created_at',\n",
    "                 #'deleted_at',\n",
    "                 'updated_at',\n",
    "                 'tested_at',\n",
    "                 #'received_at' deprecated\n",
    "                ]\n",
    "\n",
    "    # combine the column names to load only the columns you are using\n",
    "    cols = list(col_dtypes.keys()) + date_cols\n",
    "\n",
    "    lab_results_df = pd.read_csv(file_path / 'LabResults_0.csv', sep = '\\t', encoding = 'utf-16', usecols = cols, dtype = col_dtypes, parse_dates = date_cols)\n",
    "    \n",
    "    lab_results_df.rename(columns={'mme_id':'lab_id'}, inplace=True)\n",
    " \n",
    "    return lab_results_df"
   ]
  },
  {
   "cell_type": "markdown",
   "id": "20b95558-3cdd-4a07-a13a-5290ab5963c4",
   "metadata": {},
   "source": [
    "# read in batches dataframe to get the producer id"
   ]
  },
  {
   "cell_type": "code",
   "execution_count": 4,
   "id": "0c4feacb-ce16-4556-aaf2-13ec6bfc58ef",
   "metadata": {},
   "outputs": [],
   "source": [
    "def get_batches_df():\n",
    "    col_dtypes = {'global_id':'string',\n",
    "                  'mme_id':'category',\n",
    "                  #'strain_id':'category'\n",
    "    }\n",
    "    cols = list(col_dtypes.keys())\n",
    "    batches_df = pd.read_csv(file_path / 'Batches_0.csv', sep = '\\t', encoding = 'utf-16', usecols = cols, dtype = col_dtypes)\n",
    "    batches_df.rename(columns={'global_id':'batch_id', 'mme_id':'producer_id'}, inplace=True)\n",
    "    \n",
    "    return batches_df"
   ]
  },
  {
   "cell_type": "code",
   "execution_count": 5,
   "id": "d90ca913-23dc-44ba-9caa-544329c38b29",
   "metadata": {},
   "outputs": [],
   "source": [
    "lab_results_df = get_lab_results_df()"
   ]
  },
  {
   "cell_type": "markdown",
   "id": "6fa6f5bb-fe59-4a43-9c7e-876b6d26f303",
   "metadata": {},
   "source": [
    "# remove empty entries and only include tests that have been completed"
   ]
  },
  {
   "cell_type": "code",
   "execution_count": 6,
   "id": "a972a1ab-bccc-4807-b1de-aef9086610c5",
   "metadata": {},
   "outputs": [],
   "source": [
    "lab_results_df.drop(lab_results_df[lab_results_df.status == 'not tested'].index, inplace=True)\n",
    "lab_results_df['status'] = lab_results_df.status.cat.remove_unused_categories()\n",
    "lab_results_df.reset_index(drop = True, inplace = True)"
   ]
  },
  {
   "cell_type": "code",
   "execution_count": 7,
   "id": "ed405212-c2ff-43cd-9fdf-d08844cd8517",
   "metadata": {},
   "outputs": [],
   "source": [
    "lab_results_df = lab_results_df[lab_results_df.testing_status != 'in_progress'].copy()"
   ]
  },
  {
   "cell_type": "code",
   "execution_count": 8,
   "id": "a321d9e2-ffec-4aa6-823f-d7e0f4f10ed4",
   "metadata": {},
   "outputs": [],
   "source": [
    "lab_results_df['testing_status'] = lab_results_df.status.cat.remove_unused_categories()\n",
    "lab_results_df.dropna(subset = ['testing_status'], inplace = True)\n",
    "lab_results_df.reset_index(drop = True, inplace = True)"
   ]
  },
  {
   "cell_type": "code",
   "execution_count": 9,
   "id": "ff3aa852-34b0-4412-8e26-59146722f13f",
   "metadata": {},
   "outputs": [],
   "source": [
    "lab_results_df.dropna(subset=['batch_id'], inplace = True)\n",
    "lab_results_df.reset_index(drop = True, inplace = True)"
   ]
  },
  {
   "cell_type": "code",
   "execution_count": 10,
   "id": "d5dda90d-26ac-4751-99fd-ceafb54aac4c",
   "metadata": {},
   "outputs": [],
   "source": [
    "#drop the rows where the type is null\n",
    "lab_results_df.dropna(subset=['type'], inplace = True)\n",
    "lab_results_df.reset_index(drop = True, inplace = True)"
   ]
  },
  {
   "cell_type": "code",
   "execution_count": 11,
   "id": "af715d3a-c8f0-45a9-8677-82eaf63a957a",
   "metadata": {},
   "outputs": [],
   "source": [
    "batches_df = get_batches_df()"
   ]
  },
  {
   "cell_type": "code",
   "execution_count": 12,
   "id": "ee0dec2a-6560-4759-8e86-de991dd440ee",
   "metadata": {},
   "outputs": [],
   "source": [
    "batches_df.dropna(subset=['batch_id'], inplace = True)\n",
    "batches_df.reset_index(drop = True, inplace = True)"
   ]
  },
  {
   "cell_type": "markdown",
   "id": "fc62d9e9-e1d6-46e2-86d5-ab3b3c49c574",
   "metadata": {},
   "source": [
    "# merge the lab results and batches dataframes using the batch id"
   ]
  },
  {
   "cell_type": "code",
   "execution_count": 13,
   "id": "fc306780-54ce-43ee-8b12-00a2bb3dac28",
   "metadata": {},
   "outputs": [],
   "source": [
    "lab_results_df = pd.merge(lab_results_df, batches_df, how = 'left', on = ['batch_id'])"
   ]
  },
  {
   "cell_type": "markdown",
   "id": "e79336c3-0c16-497e-8c9e-d2353f21cf41",
   "metadata": {},
   "source": [
    "# There is less than a 1% failure rate\n",
    "The classifier will need to compensate for the class imballance"
   ]
  },
  {
   "cell_type": "code",
   "execution_count": 14,
   "id": "8680f990-9664-4282-acd9-e2514229ca6a",
   "metadata": {},
   "outputs": [
    {
     "data": {
      "text/plain": [
       "passed    0.99245\n",
       "failed    0.00755\n",
       "Name: status, dtype: float64"
      ]
     },
     "execution_count": 14,
     "metadata": {},
     "output_type": "execute_result"
    }
   ],
   "source": [
    "lab_results_df.status.value_counts(normalize=True)"
   ]
  },
  {
   "cell_type": "markdown",
   "id": "d3e09965-ef3d-45fa-b266-9b7ff698aee1",
   "metadata": {},
   "source": [
    "# encode the fail / pass status to 0 / 1"
   ]
  },
  {
   "cell_type": "code",
   "execution_count": 15,
   "id": "4493ef2d-b0b2-459c-9ae8-a749e55094f7",
   "metadata": {},
   "outputs": [],
   "source": [
    "le = preprocessing.LabelEncoder()\n",
    "le.fit(lab_results_df['status'])\n",
    "y = le.transform(lab_results_df['status'])"
   ]
  },
  {
   "cell_type": "markdown",
   "id": "c4bb2831-a9c7-465d-ab10-06b8834483b3",
   "metadata": {},
   "source": [
    "# split the data into training and testing sets"
   ]
  },
  {
   "cell_type": "code",
   "execution_count": 16,
   "id": "8366aefb-2bc9-4995-9d04-dd797f050e6c",
   "metadata": {},
   "outputs": [],
   "source": [
    "X_train, X_test, y_train, y_test = train_test_split(lab_results_df[['type', 'lab_id','producer_id']], y, test_size = 0.2, random_state = seed)"
   ]
  },
  {
   "cell_type": "markdown",
   "id": "202ce31b-e921-4133-90ec-985d89069870",
   "metadata": {},
   "source": [
    "# Calculate class weights to compensate for the fail / pass class imaballance"
   ]
  },
  {
   "cell_type": "code",
   "execution_count": 17,
   "id": "d2a097a1-3cff-495b-be20-965b36c19672",
   "metadata": {},
   "outputs": [],
   "source": [
    "classes = np.unique(y_train)\n",
    "cw = class_weight.compute_class_weight('balanced', classes = classes, y = y_train)\n",
    "weights = dict(zip(classes,cw))"
   ]
  },
  {
   "cell_type": "markdown",
   "id": "1d7dcc5e-6201-4c07-b098-d7bb2fa23bd9",
   "metadata": {},
   "source": [
    "# Define the columns that contain categorical data"
   ]
  },
  {
   "cell_type": "code",
   "execution_count": 18,
   "id": "69cde78c-23ed-4c21-9b10-a344cf2f3ddf",
   "metadata": {},
   "outputs": [],
   "source": [
    "cat_cols = [0,1,2]"
   ]
  },
  {
   "cell_type": "markdown",
   "id": "1d88f02a-ac0a-4cda-bdea-74f7d081288a",
   "metadata": {},
   "source": [
    "# Use a CatBoost Classifier to predict the which samples will fail\n",
    "The paramaters for the classifier were optimized using Optuna in a seperate notebook"
   ]
  },
  {
   "cell_type": "code",
   "execution_count": 19,
   "id": "355ec313-ab40-40d0-8903-bc8e93ada8ef",
   "metadata": {},
   "outputs": [],
   "source": [
    "model = CatBoostClassifier(class_weights=weights,\n",
    "                           random_seed = seed,\n",
    "                           verbose = False,\n",
    "                           learning_rate = 0.73,\n",
    "                           depth = 1,\n",
    "                           l2_leaf_reg = 1,\n",
    "                           iterations = 200,\n",
    "                           bootstrap_type = 'MVS',\n",
    "                           simple_ctr = 'Borders',\n",
    "                           combinations_ctr = 'Borders',\n",
    "                           model_size_reg = 0.69,\n",
    "                           max_ctr_complexity = 14)\n",
    "model.fit(X_train, y_train, cat_cols);\n",
    "preds = model.predict(X_test)"
   ]
  },
  {
   "cell_type": "markdown",
   "id": "31309109-44e1-4a7b-bbc6-268d8eb21380",
   "metadata": {},
   "source": [
    "# The classifier correctly predicts all but one of the failures\n",
    "But is incorrectly labels over 88 thousand passing samples as failing"
   ]
  },
  {
   "cell_type": "code",
   "execution_count": 20,
   "id": "9455d6af-eb81-42c7-b818-ef52e1261d4a",
   "metadata": {},
   "outputs": [
    {
     "data": {
      "image/png": "[encoded data removed]",
      "text/plain": [
       "<Figure size 432x288 with 2 Axes>"
      ]
     },
     "metadata": {
      "needs_background": "light"
     },
     "output_type": "display_data"
    }
   ],
   "source": [
    "class_names = ['Fail', 'Pass']\n",
    "disp = plot_confusion_matrix(model, X_test, y_test, display_labels = class_names, normalize = 'true')"
   ]
  },
  {
   "cell_type": "code",
   "execution_count": 21,
   "id": "6f26ef6e-6b8c-4868-a980-0481d4090770",
   "metadata": {},
   "outputs": [
    {
     "data": {
      "image/png": "[encoded data removed]",
      "text/plain": [
       "<Figure size 432x288 with 2 Axes>"
      ]
     },
     "metadata": {
      "needs_background": "light"
     },
     "output_type": "display_data"
    }
   ],
   "source": [
    "disp = plot_confusion_matrix(model, X_test, y_test, display_labels = class_names)"
   ]
  },
  {
   "cell_type": "markdown",
   "id": "fa345535-47ae-4e47-b00e-0f8c26744bb7",
   "metadata": {},
   "source": [
    "# The Lab ID is the most important feature followed by the Product Type"
   ]
  },
  {
   "cell_type": "code",
   "execution_count": 22,
   "id": "dd0aa1da-3710-4f8e-89f8-5ff5eb537f5d",
   "metadata": {},
   "outputs": [
    {
     "data": {
      "text/plain": [
       "array([19.7617073 , 80.01761886,  0.22067384])"
      ]
     },
     "execution_count": 22,
     "metadata": {},
     "output_type": "execute_result"
    }
   ],
   "source": [
    "model.get_feature_importance()"
   ]
  },
  {
   "cell_type": "markdown",
   "id": "225d917d-0ea7-4218-9b40-0dadf7f6f716",
   "metadata": {},
   "source": [
    "# What is driving the results?"
   ]
  },
  {
   "cell_type": "code",
   "execution_count": 23,
   "id": "d7202d6f-0aec-4cd7-a041-976ebbd5a5fa",
   "metadata": {},
   "outputs": [],
   "source": [
    "# Build a dataframe that combines the label and the prediction along with the features\n",
    "X_test.reset_index(inplace=True)\n",
    "predictions = pd.concat([X_test, pd.Series(y_test), pd.Series(preds)], axis = 1)\n",
    "predictions.rename(columns = {0: 'label', 1:'prediction'}, inplace = True)"
   ]
  },
  {
   "cell_type": "markdown",
   "id": "1225066a-a121-48fb-aabc-9bdd6e2a4011",
   "metadata": {},
   "source": [
    "# Marijuana is predicted to fail 99% of the time\n",
    "But Marijuana really only fails 12% of the time<br>\n",
    "Marijuana makes up 12% of the training data"
   ]
  },
  {
   "cell_type": "code",
   "execution_count": 24,
   "id": "41d58c48-3291-4403-b034-641f2b5d97df",
   "metadata": {},
   "outputs": [
    {
     "data": {
      "text/plain": [
       "99.54062589721504"
      ]
     },
     "execution_count": 24,
     "metadata": {},
     "output_type": "execute_result"
    }
   ],
   "source": [
    "(len(predictions.loc[(predictions['type'] == 'marijuana') & (predictions['prediction'] == 0)]) / len(X_test.loc[X_test.type == \"marijuana\"])) * 100"
   ]
  },
  {
   "cell_type": "code",
   "execution_count": 25,
   "id": "cc2f75c0-8d5f-463d-b484-08ef7ad6b494",
   "metadata": {},
   "outputs": [
    {
     "data": {
      "text/plain": [
       "12.227674882605454"
      ]
     },
     "execution_count": 25,
     "metadata": {},
     "output_type": "execute_result"
    }
   ],
   "source": [
    "(len(predictions.loc[(predictions['type'] == 'marijuana') & (predictions['prediction'] == 0)]) / len(predictions['prediction'] == 0)) * 100"
   ]
  },
  {
   "cell_type": "code",
   "execution_count": 39,
   "id": "384c402e-7c1b-448f-bfea-37810124b491",
   "metadata": {},
   "outputs": [
    {
     "data": {
      "text/plain": [
       "12.33777153016708"
      ]
     },
     "execution_count": 39,
     "metadata": {},
     "output_type": "execute_result"
    }
   ],
   "source": [
    "(len(X_train.loc[(X_train['type'] == 'marijuana')]) / len(X_train)) * 100"
   ]
  },
  {
   "cell_type": "markdown",
   "id": "045be59e-9e47-469f-8839-98f586d4761d",
   "metadata": {},
   "source": [
    "# End Product is predicted to fail 1.5% of the time\n",
    "End Product actually fails 1% of the time<br>\n",
    "End Product makes up 68% of the training data"
   ]
  },
  {
   "cell_type": "code",
   "execution_count": 27,
   "id": "d2786e6e-a5e2-43ee-8e87-27fc349cdf53",
   "metadata": {},
   "outputs": [
    {
     "data": {
      "text/plain": [
       "1.5427241741932116"
      ]
     },
     "execution_count": 27,
     "metadata": {},
     "output_type": "execute_result"
    }
   ],
   "source": [
    "(len(predictions.loc[(predictions['type'] == 'end_product') & (predictions['prediction'] == 0)]) / len(X_test.loc[X_test.type == \"end_product\"])) * 100"
   ]
  },
  {
   "cell_type": "code",
   "execution_count": 28,
   "id": "5f6077d4-0f44-4694-9c26-11445a4aa9dd",
   "metadata": {},
   "outputs": [
    {
     "data": {
      "text/plain": [
       "1.0421914992240875"
      ]
     },
     "execution_count": 28,
     "metadata": {},
     "output_type": "execute_result"
    }
   ],
   "source": [
    "(len(predictions.loc[(predictions['type'] == 'end_product') & (predictions['prediction'] == 0)]) / len(predictions['prediction'] == 0)) * 100"
   ]
  },
  {
   "cell_type": "code",
   "execution_count": 41,
   "id": "ef7a95ee-97a6-4352-bc84-bdefaa6da5d6",
   "metadata": {},
   "outputs": [
    {
     "data": {
      "text/plain": [
       "67.56853950133738"
      ]
     },
     "execution_count": 41,
     "metadata": {},
     "output_type": "execute_result"
    }
   ],
   "source": [
    "(len(X_train.loc[(X_train['type'] == 'end_product')]) / len(X_train)) * 100"
   ]
  },
  {
   "cell_type": "markdown",
   "id": "ebcdf5a9-4697-47f9-a178-eda3fad902cf",
   "metadata": {},
   "source": [
    "# Harvest Materials is predicted to fail 58% of the time\n",
    "But Harvest Materials really only fails 7% of the time<br>\n",
    "Harvest Materials make up 13% of the training data"
   ]
  },
  {
   "cell_type": "code",
   "execution_count": 30,
   "id": "aa21d45d-800f-4769-8cc4-e3b3967c89ea",
   "metadata": {},
   "outputs": [
    {
     "data": {
      "text/plain": [
       "58.20206841686555"
      ]
     },
     "execution_count": 30,
     "metadata": {},
     "output_type": "execute_result"
    }
   ],
   "source": [
    "(len(predictions.loc[(predictions['type'] == 'harvest_materials') & (predictions['prediction'] == 0)]) / len(X_test.loc[X_test.type == \"harvest_materials\"])) * 100"
   ]
  },
  {
   "cell_type": "code",
   "execution_count": 31,
   "id": "ccaf1c10-519e-457c-9b17-438394ba4ea0",
   "metadata": {},
   "outputs": [
    {
     "data": {
      "text/plain": [
       "7.37217598097503"
      ]
     },
     "execution_count": 31,
     "metadata": {},
     "output_type": "execute_result"
    }
   ],
   "source": [
    "(len(predictions.loc[(predictions['type'] == 'harvest_materials') & (predictions['prediction'] == 0)]) / len(predictions['prediction'] == 0)) * 100"
   ]
  },
  {
   "cell_type": "code",
   "execution_count": 42,
   "id": "742dc780-cb53-4c03-a514-a8cfd069ed2e",
   "metadata": {},
   "outputs": [
    {
     "data": {
      "text/plain": [
       "12.62143320945178"
      ]
     },
     "execution_count": 42,
     "metadata": {},
     "output_type": "execute_result"
    }
   ],
   "source": [
    "(len(X_train.loc[(X_train['type'] == 'harvest_materials')]) / len(X_train)) * 100"
   ]
  },
  {
   "cell_type": "markdown",
   "id": "0ad1da1c-2293-48f0-80ff-23723fbb2dc7",
   "metadata": {},
   "source": [
    "# Intermediate Product is predicted to fail 31% of the time\n",
    "But Intermediate Product really only fails 2% of the time<br>\n",
    "Intermediate Product makes up 7% of the training data"
   ]
  },
  {
   "cell_type": "code",
   "execution_count": 33,
   "id": "9ac65874-896c-45ef-93eb-17b6a9b51315",
   "metadata": {},
   "outputs": [
    {
     "data": {
      "text/plain": [
       "30.79225233707714"
      ]
     },
     "execution_count": 33,
     "metadata": {},
     "output_type": "execute_result"
    }
   ],
   "source": [
    "(len(predictions.loc[(predictions['type'] == 'intermediate_product') & (predictions['prediction'] == 0)]) / len(X_test.loc[X_test.type == \"intermediate_product\"])) * 100"
   ]
  },
  {
   "cell_type": "code",
   "execution_count": 34,
   "id": "95f49fc1-2e6f-4cf9-9c9a-a69dad1277e3",
   "metadata": {},
   "outputs": [
    {
     "data": {
      "text/plain": [
       "2.306828029585441"
      ]
     },
     "execution_count": 34,
     "metadata": {},
     "output_type": "execute_result"
    }
   ],
   "source": [
    "(len(predictions.loc[(predictions['type'] == 'intermediate_product') & (predictions['prediction'] == 0)]) / len(predictions['prediction'] == 0)) * 100"
   ]
  },
  {
   "cell_type": "code",
   "execution_count": 43,
   "id": "5fbb47e3-9cff-45cb-ae77-71b957f0fe4b",
   "metadata": {},
   "outputs": [
    {
     "data": {
      "text/plain": [
       "7.4697995411281095"
      ]
     },
     "execution_count": 43,
     "metadata": {},
     "output_type": "execute_result"
    }
   ],
   "source": [
    "(len(X_train.loc[(X_train['type'] == 'intermediate_product')]) / len(X_train)) * 100"
   ]
  },
  {
   "cell_type": "markdown",
   "id": "cbb281b1-ba18-4aae-8cf5-134d0220937b",
   "metadata": {},
   "source": [
    "predictions.type.value_counts()"
   ]
  },
  {
   "cell_type": "markdown",
   "id": "727b5ba2-6781-4686-bd3f-0c386a7a341f",
   "metadata": {},
   "source": [
    "# End Product has the best performance because it comprises the majority of the training data\n",
    "Can the classifier be improved by using a training set that has ballances the number of samples for each product type?"
   ]
  },
  {
   "cell_type": "code",
   "execution_count": null,
   "id": "902d0299-241b-45d5-b729-86670b9f0261",
   "metadata": {},
   "outputs": [],
   "source": []
  }
 ],
 "metadata": {
  "kernelspec": {
   "display_name": "Python 3 (ipykernel)",
   "language": "python",
   "name": "python3"
  },
  "language_info": {
   "codemirror_mode": {
    "name": "ipython",
    "version": 3
   },
   "file_extension": ".py",
   "mimetype": "text/x-python",
   "name": "python",
   "nbconvert_exporter": "python",
   "pygments_lexer": "ipython3",
   "version": "3.9.6"
  }
 },
 "nbformat": 4,
 "nbformat_minor": 5
}
