{
 "cells": [
  {
   "cell_type": "markdown",
   "id": "153211e3-20cb-42b3-9d8e-87c8a422df63",
   "metadata": {},
   "source": [
    "lab_test_failure.ipynb\n",
    "\n",
    "Author: UFO Software, LLC\n",
    "Created: Wednesday, June 29, 2021 19:18\n",
    "\n",
    "License GPLv3+: GNU GPL version 3 or later https://gnu.org/licenses/gpl.html \n",
    "This is free software: you are free to change and redistribute it.\n",
    "There is NO WARRANTY, to the extent permitted by law.\n",
    "\n",
    "Reads in the LabResults_0.csv and Batches_0.csv files from the December 2020 WA State Traceability Data and predicts if a cannabis sample will pass or fail lab testing."
   ]
  },
  {
   "cell_type": "code",
   "execution_count": 1,
   "id": "1ecdc671-32d0-4f77-8e2d-81899237a725",
   "metadata": {},
   "outputs": [],
   "source": [
    "import pandas as pd\n",
    "import pandas_profiling as pp\n",
    "import numpy as np\n",
    "from pathlib import Path\n",
    "import os\n",
    "\n",
    "import seaborn as sns\n",
    "import matplotlib.pyplot as plt\n",
    "from pandas.plotting import scatter_matrix\n",
    "\n",
    "from sklearn.model_selection import cross_val_score\n",
    "from sklearn.model_selection import RepeatedStratifiedKFold\n",
    "from sklearn.model_selection import train_test_split\n",
    "from sklearn.linear_model import LogisticRegression\n",
    "from sklearn.metrics import plot_confusion_matrix\n",
    "from sklearn import preprocessing\n",
    "from sklearn.dummy import DummyClassifier\n",
    "from sklearn.utils import class_weight\n",
    "from sklearn.metrics import accuracy_score\n",
    "from sklearn.metrics import precision_score\n",
    "from sklearn.metrics import recall_score\n",
    "from sklearn.metrics import f1_score\n",
    "from sklearn.metrics import balanced_accuracy_score\n",
    "from sklearn.metrics import average_precision_score\n",
    "\n",
    "\n",
    "from catboost import CatBoostClassifier, Pool, cv\n",
    "from catboost.utils import get_gpu_device_count\n",
    "\n",
    "import optuna\n",
    "from optuna.visualization import plot_optimization_history, plot_param_importances\n",
    "\n",
    "\n",
    "# change the file path to match where your data is stored\n",
    "file_path = Path('../dec-2020')\n",
    "pd.set_option('display.max_columns', None)"
   ]
  },
  {
   "cell_type": "code",
   "execution_count": 2,
   "id": "5f87da91-c641-415b-8a70-6744f5832779",
   "metadata": {},
   "outputs": [],
   "source": [
    "# Seed for repeatability\n",
    "seed = 42"
   ]
  },
  {
   "cell_type": "markdown",
   "id": "6a9d245a-896c-42ee-9a5b-97d83090c29b",
   "metadata": {},
   "source": [
    "# We are doing a prediction so we only want to use information that would be available before the test is performed and the test result which will be used as the target for training and testing."
   ]
  },
  {
   "cell_type": "code",
   "execution_count": 3,
   "id": "7f078089-3d45-4ec6-9360-9595c214569b",
   "metadata": {},
   "outputs": [],
   "source": [
    "def get_lab_results_df():\n",
    "    # reduce the size of the dataframe's memory footprint by specifying data types\n",
    "    # comment out columns you are not using to further decrease the memory footprint\n",
    "    col_dtypes = {'global_id' : 'string',\n",
    "                 'mme_id' : 'category',\n",
    "                 'user_id' : 'string',\n",
    "                 'external_id' : 'string',\n",
    "                 'inventory_id' : 'string',\n",
    "                 'status' : 'category',\n",
    "                 'testing_status' : 'category',\n",
    "                 'batch_id' : 'string',\n",
    "                 'parent_lab_result_id' : 'string',\n",
    "                 'og_parent_lab_result_id' : 'string',\n",
    "                 'copied_from_lab_id' : 'string',\n",
    "                 'lab_user_id' : 'string',\n",
    "                 'type' : 'category',\n",
    "                 #'foreign_matter' : 'bool',\n",
    "                 #'moisture_content_percent' : 'float32', #if you are not using Dask change this to float16\n",
    "                 #'growth_regulators_ppm' : 'float32', #if you are not using Dask change this to float16\n",
    "                 #'cannabinoid_status' : 'category',\n",
    "                 #'cannabinoid_editor' : 'float32', #if you are not using Dask change this to float16\n",
    "                 #'cannabinoid_d9_thca_percent': 'float32',\n",
    "                 #'cannabinoid_d9_thca_mg_g' : 'float32', #if you are not using Dask change this to float16\n",
    "                 #'cannabinoid_d9_thc_percent' : 'float32', #if you are not using Dask change this to float16\n",
    "                 #'cannabinoid_d9_thc_mg_g' : 'float32', #if you are not using Dask change this to float16\n",
    "                 #'cannabinoid_d8_thc_percent' : 'float32', #if you are not using Dask change this to float16\n",
    "                 #'cannabinoid_d8_thc_mg_g' : 'float32', #if you are not using Dask change this to float16\n",
    "                 #'cannabinoid_cbd_percent' : 'float32', #if you are not using Dask change this to float16\n",
    "                 #'cannabinoid_cbd_mg_g' : 'float32', #if you are not using Dask change this to float16\n",
    "                 #'cannabinoid_cbda_percent' : 'float32', #if you are not using Dask change this to float16\n",
    "                 #'cannabinoid_cbda_mg_g' : 'float32', #if you are not using Dask change this to float16\n",
    "                 #'cannabinoid_cbdv_percent' : 'float32', #if you are not using Dask change this to float16\n",
    "                 #'cannabinoid_cbg_percent' : 'float32', #if you are not using Dask change this to float16\n",
    "                 #'cannabinoid_cbg_mg_g' : 'float32', #if you are not using Dask change this to float16\n",
    "                 #'terpenoid_pinene_percent' : 'float32', #if you are not using Dask change this to float16\n",
    "                 #'terpenoid_pinene_mg_g' : 'float32', #if you are not using Dask change this to float16\n",
    "                 #'microbial_status' : 'category',\n",
    "                 #'microbial_editor' : 'string',\n",
    "                 #'microbial_bile_tolerant_cfu_g' : 'float32', #if you are not using Dask change this to float16\n",
    "                 #'microbial_pathogenic_e_coli_cfu_g' : 'float32', #if you are not using Dask change this to float16\n",
    "                 #'microbial_salmonella_cfu_g' : 'float32', #if you are not using Dask change this to float16\n",
    "                 #'mycotoxin_status' : 'category',\n",
    "                 #'mycotoxin_editor' : 'string',\n",
    "                 #'mycotoxin_aflatoxins_ppb' : 'float32', #if you are not using Dask change this to float16\n",
    "                 #'mycotoxin_ochratoxin_ppb' : 'float32', #if you are not using Dask change this to float16\n",
    "                 #'metal_status' : 'category',\n",
    "                 #'metal_editor': 'string',\n",
    "                 #'metal_arsenic_ppm' : 'float32', #if you are not using Dask change this to float16\n",
    "                 #'metal_cadmium_ppm' : 'float32', #if you are not using Dask change this to float16\n",
    "                 #'metal_lead_ppm' : 'float32', #if you are not using Dask change this to float16\n",
    "                 #'metal_mercury_ppm' : 'float32', #if you are not using Dask change this to float16\n",
    "                 #'pesticide_status' : 'category',\n",
    "                 #'pesticide_editor' : 'string',\n",
    "                 #'pesticide_abamectin_ppm' : 'float32', #if you are not using Dask change this to float16\n",
    "                 #'pesticide_acequinocyl_ppm' : 'float32', #if you are not using Dask change this to float16\n",
    "                 #'pesticide_bifenazate_ppm' : 'float32', #if you are not using Dask change this to float16\n",
    "                 #'pesticide_cyfluthrin_ppm' : 'float32', #if you are not using Dask change this to float16\n",
    "                 #'pesticide_cypermethrin_ppm' : 'float32', #if you are not using Dask change this to float16\n",
    "                 #'pesticide_etoxazole_ppm' : 'float32', #if you are not using Dask change this to float16\n",
    "                 #'pesticide_flonicamid_ppm' : 'float32', #if you are not using Dask change this to float16\n",
    "                 #'pesticide_fludioxonil_ppm' : 'float32', #if you are not using Dask change this to float16\n",
    "                 #'pesticide_imidacloprid_ppm' : 'float32', #if you are not using Dask change this to float16\n",
    "                 #'pesticide_myclobutanil_ppm' : 'float32', #if you are not using Dask change this to float16\n",
    "                 #'pesticide_spinosad_ppm' : 'float32', #if you are not using Dask change this to float16\n",
    "                 #'pesticide_spirotetramet_ppm' : 'float32', #if you are not using Dask change this to float16\n",
    "                 #'pesticide_thiamethoxam_ppm' : 'float32', #if you are not using Dask change this to float16\n",
    "                 #'pesticide_trifloxystrobin_ppm' : 'float32', #if you are not using Dask change this to float16\n",
    "                 #'solvent_status' : 'category',\n",
    "                 #'solvent_editor' : 'string',\n",
    "                 #'solvent_butanes_ppm' : 'float32', #if you are not using Dask change this to float16\n",
    "                 #'solvent_heptane_ppm' : 'float32', #if you are not using Dask change this to float16\n",
    "                 #'solvent_propane_ppm' : 'float32', #if you are not using Dask change this to float16\n",
    "                 #'notes' : 'float32', #if you are not using Dask change this to float16\n",
    "                 #'thc_percent' : 'float32', #if you are not using Dask change this to float16\n",
    "                 'intermediate_type' : 'category',\n",
    "                 #'moisture_content_water_activity_rate' : 'float32', #if you are not using Dask change this to float16\n",
    "                 #'solvent_acetone_ppm' : 'float32', #if you are not using Dask change this to float16\n",
    "                 #'solvent_benzene_ppm' : 'float32', #if you are not using Dask change this to float16\n",
    "                 #'solvent_cyclohexane_ppm' : 'float32', #if you are not using Dask change this to float16\n",
    "                 #'solvent_chloroform_ppm' : 'float32', #if you are not using Dask change this to float16\n",
    "                 #'solvent_dichloromethane_ppm' : 'float32', #if you are not using Dask change this to float16\n",
    "                 #'solvent_ethyl_acetate_ppm' : 'float32', #if you are not using Dask change this to float16\n",
    "                 #'solvent_hexanes_ppm' : 'float32', #if you are not using Dask change this to float16\n",
    "                 #'solvent_isopropanol_ppm' : 'float32', #if you are not using Dask change this to float16\n",
    "                 #'solvent_methanol_ppm' : 'float32', #if you are not using Dask change this to float16\n",
    "                 #'solvent_pentanes_ppm' : 'float32', #if you are not using Dask change this to float16\n",
    "                 #'solvent_toluene_ppm' : 'float32', #if you are not using Dask change this to float16\n",
    "                 #'solvent_xylene_ppm' : 'float32', #if you are not using Dask change this to float16\n",
    "                 #'pesticide_acephate_ppm' : 'float32', #if you are not using Dask change this to float16\n",
    "                 #'pesticide_acetamiprid_ppm' : 'float32', #if you are not using Dask change this to float16\n",
    "                 #'pesticide_aldicarb_ppm' : 'float32', #if you are not using Dask change this to float16\n",
    "                 #'pesticide_azoxystrobin_ppm' : 'float32', #if you are not using Dask change this to float16\n",
    "                 #'pesticide_bifenthrin_ppm' : 'float32', #if you are not using Dask change this to float16\n",
    "                 #'pesticide_boscalid_ppm' : 'float32', #if you are not using Dask change this to float16\n",
    "                 #'pesticide_carbaryl_ppm' : 'float32', #if you are not using Dask change this to float16\n",
    "                 #'pesticide_carbofuran_ppm' : 'float32', #if you are not using Dask change this to float16\n",
    "                 #'pesticide_chlorantraniliprole_ppm' : 'float32' #if you are not using Dask change this to float16\n",
    "                }\n",
    "\n",
    "    date_cols = ['created_at',\n",
    "                 'deleted_at',\n",
    "                 'updated_at',\n",
    "                 'tested_at',\n",
    "                 #'received_at' deprecated\n",
    "                ]\n",
    "\n",
    "    # combine the column names to load only the columns you are using\n",
    "    cols = list(col_dtypes.keys()) + date_cols\n",
    "\n",
    "    lab_results_df = pd.read_csv(file_path / 'LabResults_0.csv', sep = '\\t', encoding = 'utf-16', usecols = cols, dtype = col_dtypes, parse_dates = date_cols)\n",
    "    # rename mme_id to lab_id to make the column more meaningful\n",
    "    lab_results_df.rename(columns={'mme_id':'lab_id'}, inplace=True)\n",
    " \n",
    "    return lab_results_df"
   ]
  },
  {
   "cell_type": "code",
   "execution_count": 4,
   "id": "94845f99-611e-4951-8162-3e1cf1973d2b",
   "metadata": {},
   "outputs": [],
   "source": [
    "def get_batches_df():\n",
    "    col_dtypes = {'global_id':'string',\n",
    "                  'mme_id':'category',\n",
    "                  #'strain_id':'category'\n",
    "    }\n",
    "    cols = list(col_dtypes.keys())\n",
    "    batches_df = pd.read_csv(file_path / 'Batches_0.csv', sep = '\\t', encoding = 'utf-16', usecols = cols, dtype = col_dtypes)\n",
    "    batches_df.rename(columns={'global_id':'batch_id', 'mme_id':'producer_id'}, inplace=True)\n",
    "    \n",
    "    return batches_df"
   ]
  },
  {
   "cell_type": "code",
   "execution_count": 5,
   "id": "7b215604-5bd7-418d-88f2-8492a461af53",
   "metadata": {},
   "outputs": [],
   "source": [
    "lab_results_df = get_lab_results_df()"
   ]
  },
  {
   "cell_type": "markdown",
   "id": "c5d8bcfd-2cc4-4664-a61e-ca35e9404476",
   "metadata": {},
   "source": [
    "# Lab Results Status\n",
    "The status defines our target"
   ]
  },
  {
   "cell_type": "code",
   "execution_count": 6,
   "id": "123990ce-95f7-40fd-ae88-fad19ffc3830",
   "metadata": {},
   "outputs": [
    {
     "data": {
      "text/plain": [
       "['not tested', 'passed', 'failed']\n",
       "Categories (3, object): ['not tested', 'passed', 'failed']"
      ]
     },
     "execution_count": 6,
     "metadata": {},
     "output_type": "execute_result"
    }
   ],
   "source": [
    "lab_results_df.status.unique()"
   ]
  },
  {
   "cell_type": "markdown",
   "id": "2155935e-8973-4bc8-afea-2e772cb28c0d",
   "metadata": {},
   "source": [
    "# Remove the samples that have not been tested since we are only concerned with samples that have passed or failed."
   ]
  },
  {
   "cell_type": "code",
   "execution_count": 7,
   "id": "4908a321-3dc4-4c18-a172-5e07241e2fa7",
   "metadata": {},
   "outputs": [],
   "source": [
    "lab_results_df.drop(lab_results_df[lab_results_df.status == 'not tested'].index, inplace=True)\n",
    "lab_results_df['status'] = lab_results_df.status.cat.remove_unused_categories()\n",
    "lab_results_df.reset_index(drop = True, inplace = True)"
   ]
  },
  {
   "cell_type": "code",
   "execution_count": 8,
   "id": "441aeb50-b2a8-46dc-9647-73f943a96ab5",
   "metadata": {},
   "outputs": [
    {
     "data": {
      "text/plain": [
       "['completed', 'in_progress', NaN]\n",
       "Categories (2, object): ['completed', 'in_progress']"
      ]
     },
     "execution_count": 8,
     "metadata": {},
     "output_type": "execute_result"
    }
   ],
   "source": [
    "lab_results_df.testing_status.unique()"
   ]
  },
  {
   "cell_type": "code",
   "execution_count": 9,
   "id": "76c42b35-b85f-4051-8c2a-834bf4ef490a",
   "metadata": {},
   "outputs": [],
   "source": [
    "lab_results_df = lab_results_df[lab_results_df.testing_status != 'in_progress'].copy()\n",
    "lab_results_df['testing_status'] = lab_results_df.status.cat.remove_unused_categories()\n",
    "lab_results_df.dropna(subset = ['testing_status'], inplace = True)\n",
    "lab_results_df.reset_index(drop = True, inplace = True)"
   ]
  },
  {
   "cell_type": "markdown",
   "id": "e8569b6b-5f46-462b-928c-bbeb9296f1b6",
   "metadata": {},
   "source": [
    "# Target value distribution\n",
    "There is a 1% failure rate so we will have to use a training method that works for imballanced datasets."
   ]
  },
  {
   "cell_type": "code",
   "execution_count": 10,
   "id": "1163ed0f-d2e1-43cd-a653-9764375d061b",
   "metadata": {},
   "outputs": [
    {
     "data": {
      "text/plain": [
       "passed    0.992449\n",
       "failed    0.007551\n",
       "Name: status, dtype: float64"
      ]
     },
     "execution_count": 10,
     "metadata": {},
     "output_type": "execute_result"
    }
   ],
   "source": [
    "lab_results_df.status.value_counts(normalize=True)"
   ]
  },
  {
   "cell_type": "markdown",
   "id": "69022c45-c6d2-4c5f-891c-004267f659df",
   "metadata": {},
   "source": [
    "# Run Pandas Profiling to learn about the dataset"
   ]
  },
  {
   "cell_type": "code",
   "execution_count": 11,
   "id": "f0aeded9-c597-4c6a-9a7b-cc023d8cb6f0",
   "metadata": {},
   "outputs": [
    {
     "data": {
      "application/vnd.jupyter.widget-view+json": {
       "model_id": "0cdc4601e251449dad82aa3011024115",
       "version_major": 2,
       "version_minor": 0
      },
      "text/plain": [
       "Summarize dataset:   0%|          | 0/31 [00:00<?, ?it/s]"
      ]
     },
     "metadata": {},
     "output_type": "display_data"
    },
    {
     "data": {
      "application/vnd.jupyter.widget-view+json": {
       "model_id": "ef5def4150b54499b57914be33652c7d",
       "version_major": 2,
       "version_minor": 0
      },
      "text/plain": [
       "Generate report structure:   0%|          | 0/1 [00:00<?, ?it/s]"
      ]
     },
     "metadata": {},
     "output_type": "display_data"
    },
    {
     "data": {
      "application/vnd.jupyter.widget-view+json": {
       "model_id": "",
       "version_major": 2,
       "version_minor": 0
      },
      "text/plain": [
       "Render widgets:   0%|          | 0/1 [00:00<?, ?it/s]"
      ]
     },
     "metadata": {},
     "output_type": "display_data"
    },
    {
     "data": {
      "application/vnd.jupyter.widget-view+json": {
       "model_id": "b081963def5b4d0f82744a8edbaef903",
       "version_major": 2,
       "version_minor": 0
      },
      "text/plain": [
       "VBox(children=(Tab(children=(Tab(children=(GridBox(children=(VBox(children=(GridspecLayout(children=(HTML(valu…"
      ]
     },
     "metadata": {},
     "output_type": "display_data"
    }
   ],
   "source": [
    "feature_cols = lab_results_df.columns\n",
    "prof = pp.ProfileReport(lab_results_df[feature_cols], title=\"Pandas Profiling Report\", explorative=True)\n",
    "prof.to_widgets()"
   ]
  },
  {
   "cell_type": "markdown",
   "id": "52fc9d93-8f26-47f7-9b66-e1438ad8c714",
   "metadata": {},
   "source": [
    "# Remove empty columns and columns that are almost empty"
   ]
  },
  {
   "cell_type": "code",
   "execution_count": 12,
   "id": "8a2883f8-2b40-484f-bbfb-a857807a164c",
   "metadata": {},
   "outputs": [],
   "source": [
    "lab_results_df.drop(columns = ['deleted_at', 'parent_lab_result_id', 'og_parent_lab_result_id', 'copied_from_lab_id'], inplace = True)\n",
    "lab_results_df.dropna(subset=['batch_id'], inplace = True)\n",
    "lab_results_df.reset_index(drop = True, inplace = True)"
   ]
  },
  {
   "cell_type": "markdown",
   "id": "9deb0de9-1b4c-45a1-86ea-8dc55b3e128e",
   "metadata": {},
   "source": [
    "# Run Pandas Profiling again to learn about the updated dataset"
   ]
  },
  {
   "cell_type": "code",
   "execution_count": 13,
   "id": "cca5a8b5-99c1-475d-83af-76e9ab64e63a",
   "metadata": {},
   "outputs": [
    {
     "data": {
      "application/vnd.jupyter.widget-view+json": {
       "model_id": "d7fbdefdee9c407690859c21324bf1eb",
       "version_major": 2,
       "version_minor": 0
      },
      "text/plain": [
       "Summarize dataset:   0%|          | 0/27 [00:00<?, ?it/s]"
      ]
     },
     "metadata": {},
     "output_type": "display_data"
    },
    {
     "data": {
      "application/vnd.jupyter.widget-view+json": {
       "model_id": "809b1da13cf143fa9af52cdddc9f2860",
       "version_major": 2,
       "version_minor": 0
      },
      "text/plain": [
       "Generate report structure:   0%|          | 0/1 [00:00<?, ?it/s]"
      ]
     },
     "metadata": {},
     "output_type": "display_data"
    },
    {
     "data": {
      "application/vnd.jupyter.widget-view+json": {
       "model_id": "",
       "version_major": 2,
       "version_minor": 0
      },
      "text/plain": [
       "Render widgets:   0%|          | 0/1 [00:00<?, ?it/s]"
      ]
     },
     "metadata": {},
     "output_type": "display_data"
    },
    {
     "data": {
      "application/vnd.jupyter.widget-view+json": {
       "model_id": "5af534beaff1486299ba73be4619515d",
       "version_major": 2,
       "version_minor": 0
      },
      "text/plain": [
       "VBox(children=(Tab(children=(Tab(children=(GridBox(children=(VBox(children=(GridspecLayout(children=(HTML(valu…"
      ]
     },
     "metadata": {},
     "output_type": "display_data"
    }
   ],
   "source": [
    "feature_cols = lab_results_df.columns\n",
    "prof = pp.ProfileReport(lab_results_df[feature_cols], title=\"Pandas Profiling Report\", explorative=True)\n",
    "prof.to_widgets()"
   ]
  },
  {
   "cell_type": "markdown",
   "id": "9820e92a-ec58-48ac-95dd-3f4bb71a7c19",
   "metadata": {},
   "source": [
    "# Product Type\n",
    "There is a weak correlation between product type and status.  Product type has a low cardinality so it will be easy to encode."
   ]
  },
  {
   "cell_type": "code",
   "execution_count": 14,
   "id": "ba068ac3-36da-41e1-95d5-e2c29a1d6b21",
   "metadata": {},
   "outputs": [
    {
     "data": {
      "text/plain": [
       "['harvest_materials', 'intermediate_product', 'end_product', 'marijuana', NaN, 'waste', 'mature_plant', 'immature_plant']\n",
       "Categories (7, object): ['harvest_materials', 'intermediate_product', 'end_product', 'marijuana', 'waste', 'mature_plant', 'immature_plant']"
      ]
     },
     "execution_count": 14,
     "metadata": {},
     "output_type": "execute_result"
    }
   ],
   "source": [
    "# get the unique types\n",
    "lab_results_df.type.unique()"
   ]
  },
  {
   "cell_type": "code",
   "execution_count": 15,
   "id": "e18f365f-f2e7-4fee-9959-7c138d95b666",
   "metadata": {},
   "outputs": [
    {
     "data": {
      "text/plain": [
       "end_product             1340669\n",
       "harvest_materials        250684\n",
       "marijuana                244662\n",
       "intermediate_product     148188\n",
       "mature_plant                 41\n",
       "waste                         5\n",
       "immature_plant                3\n",
       "Name: type, dtype: int64"
      ]
     },
     "execution_count": 15,
     "metadata": {},
     "output_type": "execute_result"
    }
   ],
   "source": [
    "# get the number of each unique types\n",
    "lab_results_df.type.value_counts()"
   ]
  },
  {
   "cell_type": "code",
   "execution_count": 16,
   "id": "087418c3-c7f8-4ece-bc95-1d97d46b674a",
   "metadata": {},
   "outputs": [],
   "source": [
    "#drop the rows where the type is null\n",
    "lab_results_df.dropna(subset=['type'], inplace = True)\n",
    "lab_results_df.reset_index(drop = True, inplace = True)"
   ]
  },
  {
   "cell_type": "markdown",
   "id": "fdff1563-9a6e-4100-bced-9c705d64bfa7",
   "metadata": {},
   "source": [
    "# There is a less than 1% failure rate for each product type"
   ]
  },
  {
   "cell_type": "code",
   "execution_count": 17,
   "id": "aed9186e-6450-4d94-b07e-96013834115b",
   "metadata": {},
   "outputs": [
    {
     "name": "stdout",
     "output_type": "stream",
     "text": [
      "end product:\t\t0.00 % failue rate\n",
      "harvest materials:\t0.16 % failue rate\n",
      "marijuana:\t\t0.56 % failue rate\n",
      "intermediate product:\t0.03 % failue rate\n",
      "mature plant:\t\t0.00 % failue rate\n",
      "waste:\t\t\t0.00 % failue rate\n",
      "immature plant:\t\t0.00 % failue rate\n"
     ]
    }
   ],
   "source": [
    "print('end product:\\t\\t%.2f' %((len(lab_results_df[(lab_results_df.type == 'end_product') & (lab_results_df.status == 'failed')]) / len(lab_results_df)) * 100),'% failue rate')\n",
    "print('harvest materials:\\t%.2f' %((len(lab_results_df[(lab_results_df.type == 'harvest_materials') & (lab_results_df.status == 'failed')]) / len(lab_results_df)) * 100),'% failue rate')\n",
    "print('marijuana:\\t\\t%.2f' %((len(lab_results_df[(lab_results_df.type == 'marijuana') & (lab_results_df.status == 'failed')]) / len(lab_results_df)) * 100),'% failue rate')\n",
    "print('intermediate product:\\t%.2f' %((len(lab_results_df[(lab_results_df.type == 'intermediate_product') & (lab_results_df.status == 'failed')]) / len(lab_results_df)) * 100),'% failue rate')\n",
    "print('mature plant:\\t\\t%.2f' %((len(lab_results_df[(lab_results_df.type == 'mature_plant') & (lab_results_df.status == 'failed')]) / len(lab_results_df)) * 100),'% failue rate')\n",
    "print('waste:\\t\\t\\t%.2f' %((len(lab_results_df[(lab_results_df.type == 'waste') & (lab_results_df.status == 'failed')]) / len(lab_results_df)) * 100),'% failue rate')\n",
    "print('immature plant:\\t\\t%.2f' %((len(lab_results_df[(lab_results_df.type == 'immature_plant') & (lab_results_df.status == 'failed')]) / len(lab_results_df)) * 100),'% failue rate')"
   ]
  },
  {
   "cell_type": "markdown",
   "id": "709dceed-297f-4426-a78b-531a41f774c8",
   "metadata": {},
   "source": [
    "# Intermediate Type\n",
    "Are there enough valid entries to use intermediate type as a predictor?"
   ]
  },
  {
   "cell_type": "code",
   "execution_count": 18,
   "id": "e2736864-9fb3-4f38-946c-922cf28b5314",
   "metadata": {},
   "outputs": [
    {
     "data": {
      "text/plain": [
       "['flower_lots', 'flower', 'concentrate_for_inhalation', 'usable_marijuana', 'non-solvent_based_concentrate', ..., 'ethanol_concentrate', 'non_mandatory_plant_sample', 'mature_plant', 'transdermal_patches', 'plant_tissue']\n",
       "Length: 25\n",
       "Categories (24, object): ['flower_lots', 'flower', 'concentrate_for_inhalation', 'usable_marijuana', ..., 'non_mandatory_plant_sample', 'mature_plant', 'transdermal_patches', 'plant_tissue']"
      ]
     },
     "execution_count": 18,
     "metadata": {},
     "output_type": "execute_result"
    }
   ],
   "source": [
    "lab_results_df.intermediate_type.unique()"
   ]
  },
  {
   "cell_type": "code",
   "execution_count": 19,
   "id": "6dadea34-d193-4f9f-b4da-3445629d6653",
   "metadata": {},
   "outputs": [
    {
     "data": {
      "text/plain": [
       "flower_lots                       0.502839\n",
       "flower                            0.278490\n",
       "hydrocarbon_concentrate           0.082564\n",
       "solid_edible                      0.029785\n",
       "infused_mix                       0.022791\n",
       "marijuana_mix                     0.014753\n",
       "co2_concentrate                   0.011384\n",
       "food_grade_solvent_concentrate    0.011157\n",
       "concentrate_for_inhalation        0.010045\n",
       "non-solvent_based_concentrate     0.009491\n",
       "ethanol_concentrate               0.008644\n",
       "liquid_edible                     0.008116\n",
       "usable_marijuana                  0.005964\n",
       "topical                           0.002349\n",
       "packaged_marijuana_mix            0.000476\n",
       "infused_cooking_medium            0.000374\n",
       "tinctures                         0.000207\n",
       "capsules                          0.000194\n",
       "sample_jar                        0.000154\n",
       "non_mandatory_plant_sample        0.000125\n",
       "transdermal_patches               0.000062\n",
       "waste                             0.000016\n",
       "mature_plant                      0.000010\n",
       "plant_tissue                      0.000010\n",
       "Name: intermediate_type, dtype: float64"
      ]
     },
     "execution_count": 19,
     "metadata": {},
     "output_type": "execute_result"
    }
   ],
   "source": [
    "lab_results_df.intermediate_type.value_counts(normalize=True)"
   ]
  },
  {
   "cell_type": "markdown",
   "id": "6d024be0-e080-448c-98ef-21a60f734c71",
   "metadata": {},
   "source": [
    "# 84% of intermediate type rows are NAN"
   ]
  },
  {
   "cell_type": "code",
   "execution_count": 20,
   "id": "329a966e-cc6e-4168-b91f-7736e4c0a2bf",
   "metadata": {},
   "outputs": [
    {
     "name": "stdout",
     "output_type": "stream",
     "text": [
      "84.64 % null rows\n"
     ]
    }
   ],
   "source": [
    "print('%.2f'%((lab_results_df.intermediate_type.isnull().sum() / len(lab_results_df)) * 100),'% null rows')"
   ]
  },
  {
   "cell_type": "markdown",
   "id": "635a4bec-37b1-4f45-bcc2-b9e34315b071",
   "metadata": {},
   "source": [
    "# Can we fill in the missing data?\n",
    "# Solid edible is the most frequent End Product Intermediate Type\n",
    "But its frequency is less than the other types combined so it may not be a good choice"
   ]
  },
  {
   "cell_type": "code",
   "execution_count": 21,
   "id": "758c1366-26b8-487b-a0b8-00b16f1c70f6",
   "metadata": {},
   "outputs": [
    {
     "data": {
      "text/plain": [
       "solid_edible                      0.371648\n",
       "infused_mix                       0.284375\n",
       "concentrate_for_inhalation        0.125343\n",
       "liquid_edible                     0.101273\n",
       "usable_marijuana                  0.074420\n",
       "topical                           0.029309\n",
       "packaged_marijuana_mix            0.005936\n",
       "tinctures                         0.002579\n",
       "capsules                          0.002415\n",
       "sample_jar                        0.001924\n",
       "transdermal_patches               0.000778\n",
       "non-solvent_based_concentrate     0.000000\n",
       "marijuana_mix                     0.000000\n",
       "infused_cooking_medium            0.000000\n",
       "hydrocarbon_concentrate           0.000000\n",
       "flower_lots                       0.000000\n",
       "flower                            0.000000\n",
       "co2_concentrate                   0.000000\n",
       "waste                             0.000000\n",
       "ethanol_concentrate               0.000000\n",
       "food_grade_solvent_concentrate    0.000000\n",
       "non_mandatory_plant_sample        0.000000\n",
       "mature_plant                      0.000000\n",
       "plant_tissue                      0.000000\n",
       "Name: intermediate_type, dtype: float64"
      ]
     },
     "execution_count": 21,
     "metadata": {},
     "output_type": "execute_result"
    }
   ],
   "source": [
    "lab_results_df[lab_results_df.type == 'end_product'].intermediate_type.value_counts(normalize=True)"
   ]
  },
  {
   "cell_type": "markdown",
   "id": "6e9657c6-0d44-4b06-9bba-0cacff98a661",
   "metadata": {},
   "source": [
    "# Flower is the only Intermediate Type for Marijuana\n",
    "Adding flower to the missing values would add no information"
   ]
  },
  {
   "cell_type": "code",
   "execution_count": 22,
   "id": "08efa0bd-a2cb-45eb-b095-ac04c88f6b6e",
   "metadata": {},
   "outputs": [
    {
     "data": {
      "text/plain": [
       "flower                            1.0\n",
       "capsules                          0.0\n",
       "tinctures                         0.0\n",
       "transdermal_patches               0.0\n",
       "mature_plant                      0.0\n",
       "non_mandatory_plant_sample        0.0\n",
       "food_grade_solvent_concentrate    0.0\n",
       "ethanol_concentrate               0.0\n",
       "waste                             0.0\n",
       "co2_concentrate                   0.0\n",
       "usable_marijuana                  0.0\n",
       "topical                           0.0\n",
       "solid_edible                      0.0\n",
       "concentrate_for_inhalation        0.0\n",
       "sample_jar                        0.0\n",
       "packaged_marijuana_mix            0.0\n",
       "non-solvent_based_concentrate     0.0\n",
       "marijuana_mix                     0.0\n",
       "liquid_edible                     0.0\n",
       "infused_mix                       0.0\n",
       "infused_cooking_medium            0.0\n",
       "hydrocarbon_concentrate           0.0\n",
       "flower_lots                       0.0\n",
       "plant_tissue                      0.0\n",
       "Name: intermediate_type, dtype: float64"
      ]
     },
     "execution_count": 22,
     "metadata": {},
     "output_type": "execute_result"
    }
   ],
   "source": [
    "lab_results_df[lab_results_df.type == 'marijuana'].intermediate_type.value_counts(normalize=True)"
   ]
  },
  {
   "cell_type": "markdown",
   "id": "44dc3668-db41-413a-8528-cf445f719749",
   "metadata": {},
   "source": [
    "# Intermediate Type probably won't help our classifier\n",
    "The column is missing to much data and there are no clear values to fill in"
   ]
  },
  {
   "cell_type": "code",
   "execution_count": 23,
   "id": "f07b2fce-2757-4970-8629-b4e6256a0e1c",
   "metadata": {},
   "outputs": [],
   "source": [
    "lab_results_df.drop(['intermediate_type'], axis = 1, inplace = True)"
   ]
  },
  {
   "cell_type": "markdown",
   "id": "f717fb8c-ee59-4355-b8e5-092e5ff25bfd",
   "metadata": {},
   "source": [
    "# Use a dummy classifier as a baseline\n",
    "Any model we create should be able to outperfrom a dummy classifier."
   ]
  },
  {
   "cell_type": "code",
   "execution_count": 24,
   "id": "08c8d5b2-b7af-4ecc-be09-8e64799a590e",
   "metadata": {},
   "outputs": [],
   "source": [
    "feature_cols = [feature_cols]"
   ]
  },
  {
   "cell_type": "markdown",
   "id": "2f7ebfee-1cc7-40cf-812b-f2ded73c415c",
   "metadata": {},
   "source": [
    "# One Hot Encode Product Type\n",
    "Since there are a limited number of prodcut types, one hot encoding is a good choice."
   ]
  },
  {
   "cell_type": "code",
   "execution_count": 25,
   "id": "795cf5dc-ba22-4179-8a51-6868551363d2",
   "metadata": {},
   "outputs": [],
   "source": [
    "oh = preprocessing.OneHotEncoder()\n",
    "X_oh = oh.fit_transform(lab_results_df[['type']])\n",
    "X = pd.DataFrame(X_oh.toarray(), columns = oh.categories_)"
   ]
  },
  {
   "cell_type": "code",
   "execution_count": 26,
   "id": "c2d053f6-ea1f-48d0-8de2-bd8c6b99193e",
   "metadata": {},
   "outputs": [
    {
     "data": {
      "text/html": [
       "<div>\n",
       "<style scoped>\n",
       "    .dataframe tbody tr th:only-of-type {\n",
       "        vertical-align: middle;\n",
       "    }\n",
       "\n",
       "    .dataframe tbody tr th {\n",
       "        vertical-align: top;\n",
       "    }\n",
       "\n",
       "    .dataframe thead tr th {\n",
       "        text-align: left;\n",
       "    }\n",
       "</style>\n",
       "<table border=\"1\" class=\"dataframe\">\n",
       "  <thead>\n",
       "    <tr>\n",
       "      <th></th>\n",
       "      <th>end_product</th>\n",
       "      <th>harvest_materials</th>\n",
       "      <th>immature_plant</th>\n",
       "      <th>intermediate_product</th>\n",
       "      <th>marijuana</th>\n",
       "      <th>mature_plant</th>\n",
       "      <th>waste</th>\n",
       "    </tr>\n",
       "  </thead>\n",
       "  <tbody>\n",
       "    <tr>\n",
       "      <th>0</th>\n",
       "      <td>0.0</td>\n",
       "      <td>1.0</td>\n",
       "      <td>0.0</td>\n",
       "      <td>0.0</td>\n",
       "      <td>0.0</td>\n",
       "      <td>0.0</td>\n",
       "      <td>0.0</td>\n",
       "    </tr>\n",
       "    <tr>\n",
       "      <th>1</th>\n",
       "      <td>0.0</td>\n",
       "      <td>0.0</td>\n",
       "      <td>0.0</td>\n",
       "      <td>1.0</td>\n",
       "      <td>0.0</td>\n",
       "      <td>0.0</td>\n",
       "      <td>0.0</td>\n",
       "    </tr>\n",
       "    <tr>\n",
       "      <th>2</th>\n",
       "      <td>0.0</td>\n",
       "      <td>0.0</td>\n",
       "      <td>0.0</td>\n",
       "      <td>1.0</td>\n",
       "      <td>0.0</td>\n",
       "      <td>0.0</td>\n",
       "      <td>0.0</td>\n",
       "    </tr>\n",
       "    <tr>\n",
       "      <th>3</th>\n",
       "      <td>0.0</td>\n",
       "      <td>1.0</td>\n",
       "      <td>0.0</td>\n",
       "      <td>0.0</td>\n",
       "      <td>0.0</td>\n",
       "      <td>0.0</td>\n",
       "      <td>0.0</td>\n",
       "    </tr>\n",
       "    <tr>\n",
       "      <th>4</th>\n",
       "      <td>0.0</td>\n",
       "      <td>0.0</td>\n",
       "      <td>0.0</td>\n",
       "      <td>1.0</td>\n",
       "      <td>0.0</td>\n",
       "      <td>0.0</td>\n",
       "      <td>0.0</td>\n",
       "    </tr>\n",
       "    <tr>\n",
       "      <th>...</th>\n",
       "      <td>...</td>\n",
       "      <td>...</td>\n",
       "      <td>...</td>\n",
       "      <td>...</td>\n",
       "      <td>...</td>\n",
       "      <td>...</td>\n",
       "      <td>...</td>\n",
       "    </tr>\n",
       "    <tr>\n",
       "      <th>1984247</th>\n",
       "      <td>0.0</td>\n",
       "      <td>1.0</td>\n",
       "      <td>0.0</td>\n",
       "      <td>0.0</td>\n",
       "      <td>0.0</td>\n",
       "      <td>0.0</td>\n",
       "      <td>0.0</td>\n",
       "    </tr>\n",
       "    <tr>\n",
       "      <th>1984248</th>\n",
       "      <td>0.0</td>\n",
       "      <td>1.0</td>\n",
       "      <td>0.0</td>\n",
       "      <td>0.0</td>\n",
       "      <td>0.0</td>\n",
       "      <td>0.0</td>\n",
       "      <td>0.0</td>\n",
       "    </tr>\n",
       "    <tr>\n",
       "      <th>1984249</th>\n",
       "      <td>0.0</td>\n",
       "      <td>1.0</td>\n",
       "      <td>0.0</td>\n",
       "      <td>0.0</td>\n",
       "      <td>0.0</td>\n",
       "      <td>0.0</td>\n",
       "      <td>0.0</td>\n",
       "    </tr>\n",
       "    <tr>\n",
       "      <th>1984250</th>\n",
       "      <td>0.0</td>\n",
       "      <td>1.0</td>\n",
       "      <td>0.0</td>\n",
       "      <td>0.0</td>\n",
       "      <td>0.0</td>\n",
       "      <td>0.0</td>\n",
       "      <td>0.0</td>\n",
       "    </tr>\n",
       "    <tr>\n",
       "      <th>1984251</th>\n",
       "      <td>0.0</td>\n",
       "      <td>1.0</td>\n",
       "      <td>0.0</td>\n",
       "      <td>0.0</td>\n",
       "      <td>0.0</td>\n",
       "      <td>0.0</td>\n",
       "      <td>0.0</td>\n",
       "    </tr>\n",
       "  </tbody>\n",
       "</table>\n",
       "<p>1984252 rows × 7 columns</p>\n",
       "</div>"
      ],
      "text/plain": [
       "        end_product harvest_materials immature_plant intermediate_product  \\\n",
       "0               0.0               1.0            0.0                  0.0   \n",
       "1               0.0               0.0            0.0                  1.0   \n",
       "2               0.0               0.0            0.0                  1.0   \n",
       "3               0.0               1.0            0.0                  0.0   \n",
       "4               0.0               0.0            0.0                  1.0   \n",
       "...             ...               ...            ...                  ...   \n",
       "1984247         0.0               1.0            0.0                  0.0   \n",
       "1984248         0.0               1.0            0.0                  0.0   \n",
       "1984249         0.0               1.0            0.0                  0.0   \n",
       "1984250         0.0               1.0            0.0                  0.0   \n",
       "1984251         0.0               1.0            0.0                  0.0   \n",
       "\n",
       "        marijuana mature_plant waste  \n",
       "0             0.0          0.0   0.0  \n",
       "1             0.0          0.0   0.0  \n",
       "2             0.0          0.0   0.0  \n",
       "3             0.0          0.0   0.0  \n",
       "4             0.0          0.0   0.0  \n",
       "...           ...          ...   ...  \n",
       "1984247       0.0          0.0   0.0  \n",
       "1984248       0.0          0.0   0.0  \n",
       "1984249       0.0          0.0   0.0  \n",
       "1984250       0.0          0.0   0.0  \n",
       "1984251       0.0          0.0   0.0  \n",
       "\n",
       "[1984252 rows x 7 columns]"
      ]
     },
     "execution_count": 26,
     "metadata": {},
     "output_type": "execute_result"
    }
   ],
   "source": [
    "X"
   ]
  },
  {
   "cell_type": "markdown",
   "id": "52a2f600-d205-44f9-af45-19692688a3ce",
   "metadata": {},
   "source": [
    "# Label Encode the status\n",
    "This will transform pass / fail to 1 / 0"
   ]
  },
  {
   "cell_type": "code",
   "execution_count": 27,
   "id": "afe5043f-9b71-4193-b63f-b3ffbc381ecc",
   "metadata": {},
   "outputs": [],
   "source": [
    "le = preprocessing.LabelEncoder()\n",
    "le.fit(lab_results_df['status'])\n",
    "y = le.transform(lab_results_df['status'])"
   ]
  },
  {
   "cell_type": "markdown",
   "id": "fa84cbb3-7199-462f-8fd3-962c98ebcb14",
   "metadata": {},
   "source": [
    "# Split the data into training and testing sets"
   ]
  },
  {
   "cell_type": "code",
   "execution_count": 28,
   "id": "ed26de93-e2ad-4a19-bb91-ae0d43ee73eb",
   "metadata": {},
   "outputs": [],
   "source": [
    "X_train, X_test, y_train, y_test = train_test_split(X, y, test_size = 0.2, random_state = seed)"
   ]
  },
  {
   "cell_type": "markdown",
   "id": "2ef6f8a8-f1a2-4b1e-913a-ef97d651f8a7",
   "metadata": {},
   "source": [
    "# Train the dummy classifier\n",
    "The classifier will only output the most frequent status value which is pass."
   ]
  },
  {
   "cell_type": "code",
   "execution_count": 29,
   "id": "58f54013-4068-4b1c-ba5f-cc52bdb6b791",
   "metadata": {},
   "outputs": [],
   "source": [
    "dummy_clf_mf = DummyClassifier(strategy=\"most_frequent\")\n",
    "dummy_clf_mf.fit(X_train, y_train);"
   ]
  },
  {
   "cell_type": "markdown",
   "id": "e211ee0c-c549-4d19-964b-7336dabec54c",
   "metadata": {},
   "source": [
    "# What is the best way to calculate the model's performance on the test data?"
   ]
  },
  {
   "cell_type": "code",
   "execution_count": 30,
   "id": "c4e8ccab-d410-47a8-88f6-47588b2788b8",
   "metadata": {},
   "outputs": [
    {
     "name": "stdout",
     "output_type": "stream",
     "text": [
      "Pass Recall = 99.25 %\n",
      "Fail Recall = 0.00 %\n",
      "Macro Recall = 50.00 %\n",
      "Ballanced Accuracy = 50.00 %\n",
      "F1 Score = 49.81 %\n",
      "Precission = 49.62 %\n"
     ]
    }
   ],
   "source": [
    "preds = dummy_clf_mf.predict(X_test)\n",
    "print('Pass Recall = %.2f' %( dummy_clf_mf.score(X_test, y_test)*100), '%')\n",
    "print('Fail Recall = %.2f' %(recall_score(y_test, preds, pos_label=0)*100), '%')\n",
    "print('Macro Recall = %.2f' %(recall_score(y_test,preds, average='macro')*100), '%')\n",
    "print('Ballanced Accuracy = %.2f' %(balanced_accuracy_score(y_test, preds)*100), '%')\n",
    "print('F1 Score = %.2f' %(f1_score(y_test, preds, average='macro')*100), '%')\n",
    "print('Precission = %.2f' %(precision_score(y_test, preds, average='macro', zero_division = 0)*100), '%')"
   ]
  },
  {
   "cell_type": "markdown",
   "id": "76220641-53a1-4302-825c-7e3d95d0ca53",
   "metadata": {},
   "source": [
    "# Only predicting pass yields 99% recall\n",
    "The classifier predicted all the passing tests correctly and all the failing tests incorrectly so the metrics that are around 50% are more accurate."
   ]
  },
  {
   "cell_type": "code",
   "execution_count": 31,
   "id": "53fc8115-c1b2-4beb-9d7b-8048525c65d3",
   "metadata": {},
   "outputs": [
    {
     "data": {
      "image/png": "[encoded data removed]",
      "text/plain": [
       "<Figure size 432x288 with 2 Axes>"
      ]
     },
     "metadata": {
      "needs_background": "light"
     },
     "output_type": "display_data"
    }
   ],
   "source": [
    "class_names = ['Fail', 'Pass']\n",
    "disp = plot_confusion_matrix(dummy_clf_mf, X_test, y_test, display_labels = class_names, normalize = 'true')"
   ]
  },
  {
   "cell_type": "markdown",
   "id": "647b4159-c512-4046-a15d-b2f2fc5ae2f1",
   "metadata": {},
   "source": [
    "# Try a dummy classifier that outputs a distribution\n",
    "A stratified dummy classifier will output a distribution that minimics the distribution of the training data"
   ]
  },
  {
   "cell_type": "code",
   "execution_count": 32,
   "id": "68cadcb0-4e72-4919-851b-c4e4402f2e37",
   "metadata": {},
   "outputs": [
    {
     "name": "stdout",
     "output_type": "stream",
     "text": [
      "Pass Recall = 98.50 %\n",
      "Fail Recall = 0.00 %\n",
      "Macro Recall = 50.00 %\n",
      "Ballanced Accuracy = 50.00 %\n",
      "F1 Score = 49.81 %\n",
      "Precission = 49.62 %\n"
     ]
    }
   ],
   "source": [
    "dummy_clf_strat = DummyClassifier(strategy=\"stratified\")\n",
    "dummy_clf_strat.fit(X_train, y_train)\n",
    "preds = dummy_clf_mf.predict(X_test)\n",
    "print('Pass Recall = %.2f' %( dummy_clf_strat.score(X_test, y_test)*100), '%')\n",
    "print('Fail Recall = %.2f' %(recall_score(y_test, preds, pos_label=0)*100), '%')\n",
    "print('Macro Recall = %.2f' %(recall_score(y_test,preds, average='macro')*100), '%')\n",
    "print('Ballanced Accuracy = %.2f' %(balanced_accuracy_score(y_test, preds)*100), '%')\n",
    "print('F1 Score = %.2f' %(f1_score(y_test, preds, average='macro')*100), '%')\n",
    "print('Precission = %.2f' %(precision_score(y_test, preds, average='macro', zero_division = 0)*100), '%')"
   ]
  },
  {
   "cell_type": "markdown",
   "id": "8c276cd2-d800-4e75-8ae1-2868fa968b1d",
   "metadata": {},
   "source": [
    "# Stratified Dummy Classifier achieves 98% recall\n",
    "The classifier predicts passing tests correctly 99% but only predicts less then 1% failing tests correctly."
   ]
  },
  {
   "cell_type": "code",
   "execution_count": 33,
   "id": "ef655827-0095-4fd1-9832-da9bfeb74da2",
   "metadata": {},
   "outputs": [
    {
     "data": {
      "image/png": "[encoded data removed]",
      "text/plain": [
       "<Figure size 432x288 with 2 Axes>"
      ]
     },
     "metadata": {
      "needs_background": "light"
     },
     "output_type": "display_data"
    }
   ],
   "source": [
    "disp = plot_confusion_matrix(dummy_clf_strat, X_test, y_test, display_labels = class_names, normalize = 'true')"
   ]
  },
  {
   "cell_type": "markdown",
   "id": "1ed89991-0878-4ccf-b65c-af15939e6167",
   "metadata": {},
   "source": [
    "# Calculate Class Weights\n",
    "To offset the class imballance"
   ]
  },
  {
   "cell_type": "code",
   "execution_count": 34,
   "id": "cb8986f3-7930-47bd-af7e-926448be5269",
   "metadata": {},
   "outputs": [],
   "source": [
    "classes = np.unique(y_train)\n",
    "cw = class_weight.compute_class_weight('balanced', classes = classes, y = y_train)\n",
    "weights = dict(zip(classes,cw))"
   ]
  },
  {
   "cell_type": "markdown",
   "id": "f092b027-f966-419b-b60d-51db7fdea6e2",
   "metadata": {},
   "source": [
    "# Logistic Regression Classifier"
   ]
  },
  {
   "cell_type": "code",
   "execution_count": 35,
   "id": "ec615292-af70-49ba-b3b4-ca7edb09fb2e",
   "metadata": {},
   "outputs": [
    {
     "name": "stdout",
     "output_type": "stream",
     "text": [
      "Pass Recall = 75.81 %\n",
      "Fail Recall = 95.65 %\n",
      "Macro Recall = 85.66 %\n",
      "Ballanced Accuracy = 85.66 %\n",
      "F1 Score = 45.88 %\n",
      "Precission = 51.43 %\n"
     ]
    }
   ],
   "source": [
    "model = LogisticRegression(class_weight=weights, random_state = seed)\n",
    "model.fit(X_train, y_train)\n",
    "preds = model.predict(X_test)\n",
    "score = model.score(X_test, y_test)\n",
    "print('Pass Recall = %.2f' %( model.score(X_test, y_test)*100), '%')\n",
    "print('Fail Recall = %.2f' %(recall_score(y_test, preds, pos_label=0)*100), '%')\n",
    "print('Macro Recall = %.2f' %(recall_score(y_test,preds, average='macro')*100), '%')\n",
    "print('Ballanced Accuracy = %.2f' %(balanced_accuracy_score(y_test, preds)*100), '%')\n",
    "print('F1 Score = %.2f' %(f1_score(y_test, preds, average='macro')*100), '%')\n",
    "print('Precission = %.2f' %(precision_score(y_test, preds, average='macro', zero_division = 0)*100), '%')"
   ]
  },
  {
   "cell_type": "markdown",
   "id": "bb43e550-3cf6-45e0-ad25-478525b7ee8b",
   "metadata": {},
   "source": [
    "# Macro Recall and Ballanced Accuracy are 86%\n",
    "Which is the average of the Pass and Fail recall scores"
   ]
  },
  {
   "cell_type": "code",
   "execution_count": 36,
   "id": "d234100e-bd70-4ffd-b9cb-afd4d2e385d9",
   "metadata": {},
   "outputs": [
    {
     "data": {
      "image/png": "[encoded data removed]",
      "text/plain": [
       "<Figure size 432x288 with 2 Axes>"
      ]
     },
     "metadata": {
      "needs_background": "light"
     },
     "output_type": "display_data"
    }
   ],
   "source": [
    "disp = plot_confusion_matrix(model, X_test, y_test, display_labels = class_names, normalize = 'true')"
   ]
  },
  {
   "cell_type": "markdown",
   "id": "7c32119b-3489-4ff4-801d-137d29f641d9",
   "metadata": {},
   "source": [
    "# Add the lab and producer as features\n",
    "Will they improve the performance of the model?"
   ]
  },
  {
   "cell_type": "code",
   "execution_count": 37,
   "id": "8284f6c7-e440-49da-81c2-9dc15f6f5c6c",
   "metadata": {},
   "outputs": [],
   "source": [
    "batches_df = get_batches_df()"
   ]
  },
  {
   "cell_type": "code",
   "execution_count": 38,
   "id": "4061fc97-d149-4dcd-ac3c-61f19e20a0da",
   "metadata": {},
   "outputs": [],
   "source": [
    "batches_df.dropna(subset=['batch_id'], inplace = True)\n",
    "batches_df.reset_index(drop = True, inplace = True)"
   ]
  },
  {
   "cell_type": "code",
   "execution_count": 39,
   "id": "118be978-a7a4-4e33-85ec-0a45fa065a0a",
   "metadata": {},
   "outputs": [],
   "source": [
    "lab_results_df = pd.merge(lab_results_df, batches_df, how = 'left', on = ['batch_id'])"
   ]
  },
  {
   "cell_type": "code",
   "execution_count": 40,
   "id": "a6552f4f-b888-4769-a4b0-263d2acbfbc5",
   "metadata": {},
   "outputs": [],
   "source": [
    "le.fit(lab_results_df['status'])\n",
    "y = le.transform(lab_results_df['status'])"
   ]
  },
  {
   "cell_type": "code",
   "execution_count": 41,
   "id": "97fa9d29-407d-4022-baff-0f0f19054d27",
   "metadata": {},
   "outputs": [],
   "source": [
    "X_train, X_test, y_train, y_test = train_test_split(lab_results_df[['type', 'lab_id','producer_id']], y, test_size = 0.2, random_state = seed)"
   ]
  },
  {
   "cell_type": "code",
   "execution_count": 88,
   "id": "74f25693-9b8f-460f-8ad9-09de86cf1b88",
   "metadata": {},
   "outputs": [],
   "source": [
    "# categorical columns\n",
    "cat_cols = [0,1,2]"
   ]
  },
  {
   "cell_type": "code",
   "execution_count": 43,
   "id": "e11fb7d8-c873-4b5b-a507-a4db2d5e1c34",
   "metadata": {},
   "outputs": [
    {
     "data": {
      "text/html": [
       "<div>\n",
       "<style scoped>\n",
       "    .dataframe tbody tr th:only-of-type {\n",
       "        vertical-align: middle;\n",
       "    }\n",
       "\n",
       "    .dataframe tbody tr th {\n",
       "        vertical-align: top;\n",
       "    }\n",
       "\n",
       "    .dataframe thead th {\n",
       "        text-align: right;\n",
       "    }\n",
       "</style>\n",
       "<table border=\"1\" class=\"dataframe\">\n",
       "  <thead>\n",
       "    <tr style=\"text-align: right;\">\n",
       "      <th></th>\n",
       "      <th>type</th>\n",
       "      <th>lab_id</th>\n",
       "      <th>producer_id</th>\n",
       "    </tr>\n",
       "  </thead>\n",
       "  <tbody>\n",
       "    <tr>\n",
       "      <th>312182</th>\n",
       "      <td>marijuana</td>\n",
       "      <td>WAWA1.MM21D</td>\n",
       "      <td>WAWA1.MM21D</td>\n",
       "    </tr>\n",
       "    <tr>\n",
       "      <th>1674322</th>\n",
       "      <td>end_product</td>\n",
       "      <td>WAWA1.MM26M</td>\n",
       "      <td>WAWA1.MMU7</td>\n",
       "    </tr>\n",
       "    <tr>\n",
       "      <th>102852</th>\n",
       "      <td>intermediate_product</td>\n",
       "      <td>WAWA1.MM171</td>\n",
       "      <td>WAWA1.MM171</td>\n",
       "    </tr>\n",
       "    <tr>\n",
       "      <th>1212549</th>\n",
       "      <td>end_product</td>\n",
       "      <td>WAWA1.MM26M</td>\n",
       "      <td>WAWA1.MM139</td>\n",
       "    </tr>\n",
       "    <tr>\n",
       "      <th>1155082</th>\n",
       "      <td>end_product</td>\n",
       "      <td>WAWA1.MM26M</td>\n",
       "      <td>WAWA1.MM6Z</td>\n",
       "    </tr>\n",
       "    <tr>\n",
       "      <th>...</th>\n",
       "      <td>...</td>\n",
       "      <td>...</td>\n",
       "      <td>...</td>\n",
       "    </tr>\n",
       "    <tr>\n",
       "      <th>259178</th>\n",
       "      <td>marijuana</td>\n",
       "      <td>WAWA1.MM21D</td>\n",
       "      <td>WAWA1.MM21D</td>\n",
       "    </tr>\n",
       "    <tr>\n",
       "      <th>1414414</th>\n",
       "      <td>end_product</td>\n",
       "      <td>WAWA1.MM26M</td>\n",
       "      <td>WAWA1.MMG5</td>\n",
       "    </tr>\n",
       "    <tr>\n",
       "      <th>131932</th>\n",
       "      <td>marijuana</td>\n",
       "      <td>WAWA1.MM1LE</td>\n",
       "      <td>WAWA1.MM1LE</td>\n",
       "    </tr>\n",
       "    <tr>\n",
       "      <th>671155</th>\n",
       "      <td>end_product</td>\n",
       "      <td>WAWA1.MM26M</td>\n",
       "      <td>WAWA1.MM11Z</td>\n",
       "    </tr>\n",
       "    <tr>\n",
       "      <th>121958</th>\n",
       "      <td>marijuana</td>\n",
       "      <td>WAWA1.MM1L5</td>\n",
       "      <td>WAWA1.MM1L5</td>\n",
       "    </tr>\n",
       "  </tbody>\n",
       "</table>\n",
       "<p>1587807 rows × 3 columns</p>\n",
       "</div>"
      ],
      "text/plain": [
       "                         type       lab_id  producer_id\n",
       "312182              marijuana  WAWA1.MM21D  WAWA1.MM21D\n",
       "1674322           end_product  WAWA1.MM26M   WAWA1.MMU7\n",
       "102852   intermediate_product  WAWA1.MM171  WAWA1.MM171\n",
       "1212549           end_product  WAWA1.MM26M  WAWA1.MM139\n",
       "1155082           end_product  WAWA1.MM26M   WAWA1.MM6Z\n",
       "...                       ...          ...          ...\n",
       "259178              marijuana  WAWA1.MM21D  WAWA1.MM21D\n",
       "1414414           end_product  WAWA1.MM26M   WAWA1.MMG5\n",
       "131932              marijuana  WAWA1.MM1LE  WAWA1.MM1LE\n",
       "671155            end_product  WAWA1.MM26M  WAWA1.MM11Z\n",
       "121958              marijuana  WAWA1.MM1L5  WAWA1.MM1L5\n",
       "\n",
       "[1587807 rows x 3 columns]"
      ]
     },
     "execution_count": 43,
     "metadata": {},
     "output_type": "execute_result"
    }
   ],
   "source": [
    "X"
   ]
  },
  {
   "cell_type": "markdown",
   "id": "42ba913b-bfee-4f18-a8a0-c08221755633",
   "metadata": {},
   "source": [
    "# Use a CatBoost classifier\n",
    "Works well with categorical data"
   ]
  },
  {
   "cell_type": "code",
   "execution_count": 89,
   "id": "59899c0d-8930-467b-b50b-555c0872e2c1",
   "metadata": {},
   "outputs": [],
   "source": [
    "model = CatBoostClassifier(class_weights=weights,\n",
    "                           random_seed = seed,\n",
    "                           verbose = False)"
   ]
  },
  {
   "cell_type": "markdown",
   "id": "f52b35b1-2095-48bd-a18e-0702fba9d287",
   "metadata": {},
   "source": [
    "# Try Catboost with only Product Type"
   ]
  },
  {
   "cell_type": "code",
   "execution_count": 90,
   "id": "8093bb00-a9ba-4c4c-9c60-4d42719d5a21",
   "metadata": {},
   "outputs": [],
   "source": [
    "cat_cols = [0]"
   ]
  },
  {
   "cell_type": "code",
   "execution_count": 91,
   "id": "141bed1f-56ac-48f0-a159-98b57659ea91",
   "metadata": {},
   "outputs": [],
   "source": [
    "X_train, X_test, y_train, y_test = train_test_split(lab_results_df[['type']], y, test_size = 0.2, random_state = seed)"
   ]
  },
  {
   "cell_type": "code",
   "execution_count": 96,
   "id": "87f0a36b-d234-48c6-be73-925c33476a1c",
   "metadata": {},
   "outputs": [
    {
     "name": "stdout",
     "output_type": "stream",
     "text": [
      "Pass Recall = 75.73 %\n",
      "Fail Recall = 95.55 %\n",
      "Macro Recall = 85.57 %\n",
      "Ballanced Accuracy = 85.57 %\n",
      "F1 Score = 45.82 %\n",
      "Precission = 51.41 %\n"
     ]
    }
   ],
   "source": [
    "model.fit(X_train, y_train, cat_cols);\n",
    "preds = model.predict(X_test)\n",
    "print('Pass Recall = %.2f' %( model.score(X_test, y_test)*100), '%')\n",
    "print('Fail Recall = %.2f' %(recall_score(y_test, preds, pos_label=0)*100), '%')\n",
    "print('Macro Recall = %.2f' %(recall_score(y_test,preds, average='macro')*100), '%')\n",
    "print('Ballanced Accuracy = %.2f' %(balanced_accuracy_score(y_test, preds)*100), '%')\n",
    "print('F1 Score = %.2f' %(f1_score(y_test, preds, average='macro')*100), '%')\n",
    "print('Precission = %.2f' %(precision_score(y_test, preds, average='macro', zero_division = 0)*100), '%')"
   ]
  },
  {
   "cell_type": "markdown",
   "id": "07855f68-c80b-45ff-ac1c-96870fd4383e",
   "metadata": {},
   "source": [
    "# Macro Recall and Ballanced Accuracy stay the same"
   ]
  },
  {
   "cell_type": "code",
   "execution_count": 97,
   "id": "a793c1a9-1526-4027-923c-17f10f811ece",
   "metadata": {},
   "outputs": [
    {
     "data": {
      "image/png": "[encoded data removed]",
      "text/plain": [
       "<Figure size 432x288 with 2 Axes>"
      ]
     },
     "metadata": {
      "needs_background": "light"
     },
     "output_type": "display_data"
    }
   ],
   "source": [
    "disp = plot_confusion_matrix(model, X_test, y_test, display_labels = class_names, normalize = 'true')"
   ]
  },
  {
   "cell_type": "markdown",
   "id": "7f915e89-1c59-4a60-8f1a-0fe8dd943a73",
   "metadata": {},
   "source": [
    "# Try with the type, lab and producer"
   ]
  },
  {
   "cell_type": "code",
   "execution_count": 102,
   "id": "9b158478-98e4-43b9-b4aa-ecf2f39e4951",
   "metadata": {},
   "outputs": [],
   "source": [
    "X_train, X_test, y_train, y_test = train_test_split(lab_results_df[['type', 'lab_id','producer_id']], y, test_size = 0.2, random_state = seed)"
   ]
  },
  {
   "cell_type": "code",
   "execution_count": 103,
   "id": "18578a07-801a-4c05-89da-d2369c74b2d0",
   "metadata": {},
   "outputs": [],
   "source": [
    "cat_cols = [0,1,2]"
   ]
  },
  {
   "cell_type": "code",
   "execution_count": 104,
   "id": "861d68ef-e7ce-485a-b2f3-5d79fbc701e7",
   "metadata": {},
   "outputs": [],
   "source": [
    "# Model optimized using Optuna\n",
    "model = CatBoostClassifier(class_weights=weights, \n",
    "                           random_seed = seed, \n",
    "                           verbose = False, \n",
    "                           learning_rate = 0.23, \n",
    "                           depth = 11, \n",
    "                           l2_leaf_reg = 9, \n",
    "                           iterations = 500, \n",
    "                           bootstrap_type = 'Bernoulli', \n",
    "                           simple_ctr = 'Borders', \n",
    "                           combinations_ctr = 'Buckets',\n",
    "                           model_size_reg = 0.27,\n",
    "                           max_ctr_complexity = 12)"
   ]
  },
  {
   "cell_type": "code",
   "execution_count": 105,
   "id": "7df77eed-870b-47fc-a677-62a1353735ff",
   "metadata": {},
   "outputs": [
    {
     "name": "stdout",
     "output_type": "stream",
     "text": [
      "Pass Recall = 78.95 %\n",
      "Fail Recall = 99.43 %\n",
      "Macro Recall = 89.11 %\n",
      "Ballanced Accuracy = 89.11 %\n",
      "F1 Score = 47.37 %\n",
      "Precission = 51.70 %\n"
     ]
    }
   ],
   "source": [
    "model.fit(X_train, y_train, cat_cols);\n",
    "preds = model.predict(X_test)\n",
    "print('Pass Recall = %.2f' %( model.score(X_test, y_test)*100), '%')\n",
    "print('Fail Recall = %.2f' %(recall_score(y_test, preds, pos_label=0)*100), '%')\n",
    "print('Macro Recall = %.2f' %(recall_score(y_test,preds, average='macro')*100), '%')\n",
    "print('Ballanced Accuracy = %.2f' %(balanced_accuracy_score(y_test, preds)*100), '%')\n",
    "print('F1 Score = %.2f' %(f1_score(y_test, preds, average='macro')*100), '%')\n",
    "print('Precission = %.2f' %(precision_score(y_test, preds, average='macro', zero_division = 0)*100), '%')"
   ]
  },
  {
   "cell_type": "markdown",
   "id": "e698fd8d-6a08-418d-a8b6-f865426b1590",
   "metadata": {},
   "source": [
    "# Macro Recall and Ballanced Accuracy increase from 86% to 89%"
   ]
  },
  {
   "cell_type": "code",
   "execution_count": 106,
   "id": "8ff115ad-190f-4010-9c71-265633de5a68",
   "metadata": {},
   "outputs": [
    {
     "data": {
      "image/png": "[encoded data removed]",
      "text/plain": [
       "<Figure size 432x288 with 2 Axes>"
      ]
     },
     "metadata": {
      "needs_background": "light"
     },
     "output_type": "display_data"
    }
   ],
   "source": [
    "disp = plot_confusion_matrix(model, X_test, y_test, display_labels = class_names, normalize = 'true')"
   ]
  },
  {
   "cell_type": "markdown",
   "id": "46787ae3-6533-44b4-980e-2685299da17f",
   "metadata": {},
   "source": [
    "# The classifier predicted more false negatives and true postives\n",
    "The number of false negatives (passing products classified as failing) is 28 times more than the number true positives (failing products classied as failing)"
   ]
  },
  {
   "cell_type": "code",
   "execution_count": 108,
   "id": "7b7ba476-c04d-45d9-accb-62e5fdc9c8c5",
   "metadata": {},
   "outputs": [
    {
     "data": {
      "image/png": "[encoded data removed]",
      "text/plain": [
       "<Figure size 432x288 with 2 Axes>"
      ]
     },
     "metadata": {
      "needs_background": "light"
     },
     "output_type": "display_data"
    }
   ],
   "source": [
    "disp = plot_confusion_matrix(model, X_test, y_test, display_labels = class_names)"
   ]
  },
  {
   "cell_type": "markdown",
   "id": "0824b72e-8583-4d94-b43b-ccd1653d4662",
   "metadata": {},
   "source": [
    "# The lab is the most important feature in making the prediction\n",
    "Followed by the product type and the producer </br>\n",
    "Does this imply that some labs fail more prodcuts than others or do some labs recieve more bad product than others."
   ]
  },
  {
   "cell_type": "code",
   "execution_count": 107,
   "id": "bece3b5d-6974-49e6-9beb-03408118ec13",
   "metadata": {},
   "outputs": [
    {
     "data": {
      "text/plain": [
       "array([23.87129569, 73.89264107,  2.23606324])"
      ]
     },
     "execution_count": 107,
     "metadata": {},
     "output_type": "execute_result"
    }
   ],
   "source": [
    "model.get_feature_importance()"
   ]
  },
  {
   "cell_type": "code",
   "execution_count": null,
   "id": "4efa936a-a775-4316-8509-7fe5db35141f",
   "metadata": {},
   "outputs": [],
   "source": []
  }
 ],
 "metadata": {
  "kernelspec": {
   "display_name": "Python 3 (ipykernel)",
   "language": "python",
   "name": "python3"
  },
  "language_info": {
   "codemirror_mode": {
    "name": "ipython",
    "version": 3
   },
   "file_extension": ".py",
   "mimetype": "text/x-python",
   "name": "python",
   "nbconvert_exporter": "python",
   "pygments_lexer": "ipython3",
   "version": "3.9.6"
  }
 },
 "nbformat": 4,
 "nbformat_minor": 5
}
